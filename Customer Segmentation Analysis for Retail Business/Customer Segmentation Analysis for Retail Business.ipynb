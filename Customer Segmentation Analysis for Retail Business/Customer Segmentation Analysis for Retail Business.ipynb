{
 "cells": [
  {
   "cell_type": "code",
   "execution_count": null,
   "id": "a74546c3",
   "metadata": {},
   "outputs": [],
   "source": [
    "# import Libraries\n",
    "import pandas as pd\n",
    "import numpy as np\n",
    "import matplotlib.pyplot as plt\n",
    "import seaborn as sns\n",
    "from sklearn.cluster import KMeans\n",
    "from sklearn.preprocessing import StandardScaler\n"
   ]
  },
  {
   "cell_type": "code",
   "execution_count": null,
   "id": "cd275cc4",
   "metadata": {},
   "outputs": [],
   "source": [
    "# Load dataset\n",
    "df = pd.read_csv('OnlineRetail.csv', encoding='ISO-8859-1')\n",
    "\n",
    "# Display the first few rows of the dataset\n",
    "print(df.head())\n"
   ]
  },
  {
   "cell_type": "code",
   "execution_count": null,
   "id": "c099c6e6",
   "metadata": {},
   "outputs": [],
   "source": [
    "# Data Cleaning\n",
    "# Remove rows with missing CustomerID\n",
    "df = df.dropna(subset=['CustomerID'])\n",
    "\n",
    "# Remove negative quantities (returns)\n",
    "df = df[df['Quantity'] > 0]\n",
    "\n",
    "# Create TotalPrice column\n",
    "df['TotalPrice'] = df['Quantity'] * df['UnitPrice']\n",
    "\n",
    "# Display cleaned dataset info\n",
    "print(df.info())\n"
   ]
  },
  {
   "cell_type": "code",
   "execution_count": null,
   "id": "1dbea630",
   "metadata": {},
   "outputs": [],
   "source": [
    "# Basic Statistics and Visualizations\n",
    "# Summary statistics\n",
    "print(df.describe())\n",
    "\n",
    "# Distribution of TotalPrice\n",
    "plt.figure(figsize=(10, 6))\n",
    "sns.histplot(df['TotalPrice'], bins=50, kde=True)\n",
    "plt.title('Distribution of Total Price')\n",
    "plt.show()\n"
   ]
  },
  {
   "cell_type": "code",
   "execution_count": null,
   "id": "bcbbf5b8",
   "metadata": {},
   "outputs": [],
   "source": [
    "# RFM (Recency, Frequency, Monetary) Analysis\n",
    "# Recency: days since last purchase\n",
    "df['InvoiceDate'] = pd.to_datetime(df['InvoiceDate'])\n",
    "snapshot_date = df['InvoiceDate'].max() + pd.DateOffset(1)\n",
    "df['Recency'] = (snapshot_date - df['InvoiceDate']).dt.days\n",
    "\n",
    "# Frequency: number of purchases\n",
    "frequency = df.groupby('CustomerID')['InvoiceNo'].nunique()\n",
    "\n",
    "# Monetary: total spend\n",
    "monetary = df.groupby('CustomerID')['TotalPrice'].sum()\n",
    "\n",
    "# Combine RFM into a single DataFrame\n",
    "rfm = pd.DataFrame({'Recency': df.groupby('CustomerID')['Recency'].min(),\n",
    "                    'Frequency': frequency,\n",
    "                    'Monetary': monetary})\n",
    "\n",
    "# Display the RFM table\n",
    "print(rfm.head())\n"
   ]
  },
  {
   "cell_type": "code",
   "execution_count": null,
   "id": "25f6dc78",
   "metadata": {},
   "outputs": [],
   "source": [
    "# Scaling the Data\n",
    "scaler = StandardScaler()\n",
    "rfm_scaled = scaler.fit_transform(rfm)\n",
    "\n",
    "# Display scaled data\n",
    "print(rfm_scaled[:5])\n"
   ]
  },
  {
   "cell_type": "code",
   "execution_count": null,
   "id": "04f69780",
   "metadata": {},
   "outputs": [],
   "source": [
    "# Applying K-means Clustering\n",
    "# Find the optimal number of clusters using the Elbow method\n",
    "wcss = []\n",
    "for i in range(1, 11):\n",
    "    kmeans = KMeans(n_clusters=i, random_state=42)\n",
    "    kmeans.fit(rfm_scaled)\n",
    "    wcss.append(kmeans.inertia_)\n",
    "\n",
    "# Plot the Elbow graph\n",
    "plt.figure(figsize=(10, 6))\n",
    "plt.plot(range(1, 11), wcss, marker='o')\n",
    "plt.title('Elbow Method')\n",
    "plt.xlabel('Number of clusters')\n",
    "plt.ylabel('WCSS')\n",
    "plt.show()\n"
   ]
  },
  {
   "cell_type": "code",
   "execution_count": null,
   "id": "7e61a002",
   "metadata": {},
   "outputs": [],
   "source": [
    "# Cluster the Data\n",
    "# Apply KMeans with the optimal number of clusters (e.g., 4)\n",
    "kmeans = KMeans(n_clusters=4, random_state=42)\n",
    "rfm['Cluster'] = kmeans.fit_predict(rfm_scaled)\n",
    "\n",
    "# Display cluster centroids\n",
    "print(pd.DataFrame(scaler.inverse_transform(kmeans.cluster_centers_), columns=rfm.columns[:-1]))\n"
   ]
  },
  {
   "cell_type": "code",
   "execution_count": null,
   "id": "279dd4e7",
   "metadata": {},
   "outputs": [],
   "source": [
    "# Visualizing the Clusters\n",
    "# Visualize clusters using pairplot\n",
    "sns.pairplot(rfm, hue='Cluster', palette='viridis')\n",
    "plt.show()\n",
    "\n",
    "# Summary of each cluster\n",
    "cluster_summary = rfm.groupby('Cluster').agg({\n",
    "    'Recency': 'mean',\n",
    "    'Frequency': 'mean',\n",
    "    'Monetary': 'mean',\n",
    "    'Cluster': 'count'\n",
    "}).rename(columns={'Cluster': 'Count'}).reset_index()\n",
    "\n",
    "print(cluster_summary)\n"
   ]
  },
  {
   "cell_type": "markdown",
   "id": "b90bc1a8",
   "metadata": {},
   "source": [
    "### Interpreting the Clusters\n",
    "\n",
    "    Cluster 0: High Recency, Low Frequency and Monetary - Lost Customers\n",
    "    Cluster 1: Low Recency, High Frequency and Monetary - Loyal Customers\n",
    "    Cluster 2: Medium Recency, Medium Frequency and Monetary - Potential Loyalists\n",
    "    Cluster 3: High Recency, High Frequency and Monetary - New Customers\n",
    "\n",
    "### Recommendations\n",
    "\n",
    "    Loyal Customers: Offer rewards and exclusive deals.\n",
    "    Potential Loyalists: Engage with personalized marketing.\n",
    "    New Customers: Provide introductory offers and welcome messages.\n",
    "    Lost Customers: Send re-engagement campaigns."
   ]
  },
  {
   "cell_type": "code",
   "execution_count": null,
   "id": "6edb4649",
   "metadata": {},
   "outputs": [],
   "source": []
  },
  {
   "cell_type": "code",
   "execution_count": null,
   "id": "595bdc9a",
   "metadata": {},
   "outputs": [],
   "source": []
  },
  {
   "cell_type": "code",
   "execution_count": null,
   "id": "beef11e1",
   "metadata": {},
   "outputs": [],
   "source": []
  },
  {
   "cell_type": "code",
   "execution_count": null,
   "id": "4876634c",
   "metadata": {},
   "outputs": [],
   "source": []
  }
 ],
 "metadata": {
  "kernelspec": {
   "display_name": "Python 3 (ipykernel)",
   "language": "python",
   "name": "python3"
  },
  "language_info": {
   "codemirror_mode": {
    "name": "ipython",
    "version": 3
   },
   "file_extension": ".py",
   "mimetype": "text/x-python",
   "name": "python",
   "nbconvert_exporter": "python",
   "pygments_lexer": "ipython3",
   "version": "3.11.5"
  }
 },
 "nbformat": 4,
 "nbformat_minor": 5
}
