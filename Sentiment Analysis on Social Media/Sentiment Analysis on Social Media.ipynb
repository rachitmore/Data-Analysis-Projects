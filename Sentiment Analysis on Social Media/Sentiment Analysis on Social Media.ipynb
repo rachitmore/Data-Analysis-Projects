{
 "cells": [
  {
   "cell_type": "code",
   "execution_count": null,
   "id": "a3a8bfc8",
   "metadata": {},
   "outputs": [],
   "source": [
    "# import Libraries\n",
    "import pandas as pd\n",
    "import numpy as np\n",
    "import matplotlib.pyplot as plt\n",
    "import seaborn as sns\n",
    "from sklearn.model_selection import train_test_split\n",
    "from sklearn.feature_extraction.text import CountVectorizer, TfidfVectorizer\n",
    "from sklearn.linear_model import LogisticRegression\n",
    "from sklearn.metrics import classification_report, confusion_matrix, accuracy_score\n",
    "import re\n",
    "import nltk\n",
    "from nltk.corpus import stopwords\n",
    "from nltk.tokenize import word_tokenize\n",
    "nltk.download('stopwords')\n",
    "nltk.download('punkt')\n"
   ]
  },
  {
   "cell_type": "code",
   "execution_count": null,
   "id": "15d138ba",
   "metadata": {},
   "outputs": [],
   "source": [
    "# Load dataset\n",
    "df = pd.read_csv('sentiment140.csv', encoding='ISO-8859-1', header=None)\n",
    "df.columns = ['target', 'id', 'date', 'flag', 'user', 'text']\n",
    "\n",
    "# Display the first few rows of the dataset\n",
    "print(df.head())\n"
   ]
  },
  {
   "cell_type": "code",
   "execution_count": null,
   "id": "483f2b31",
   "metadata": {},
   "outputs": [],
   "source": [
    "# Data Cleaning\n",
    "# Map sentiment labels\n",
    "df['target'] = df['target'].map({0: 0, 4: 1})  # 0 = negative, 1 = positive\n",
    "\n",
    "# Display the distribution of sentiments\n",
    "print(df['target'].value_counts())\n",
    "\n",
    "# Drop unnecessary columns\n",
    "df = df.drop(columns=['id', 'date', 'flag', 'user'])\n"
   ]
  },
  {
   "cell_type": "code",
   "execution_count": null,
   "id": "1fe394fb",
   "metadata": {},
   "outputs": [],
   "source": [
    "# Basic Statistics and Visualizations\n",
    "# Plot the distribution of sentiments\n",
    "plt.figure(figsize=(6, 4))\n",
    "sns.countplot(x='target', data=df)\n",
    "plt.title('Sentiment Distribution')\n",
    "plt.xlabel('Sentiment')\n",
    "plt.ylabel('Count')\n",
    "plt.xticks([0, 1], ['Negative', 'Positive'])\n",
    "plt.show()\n"
   ]
  },
  {
   "cell_type": "code",
   "execution_count": null,
   "id": "5ce25ac4",
   "metadata": {},
   "outputs": [],
   "source": [
    "# Sample Tweets Visualization\n",
    "# Display a few sample tweets\n",
    "print(df['text'].sample(10))\n"
   ]
  },
  {
   "cell_type": "code",
   "execution_count": null,
   "id": "5c399007",
   "metadata": {},
   "outputs": [],
   "source": [
    "# Text Cleaning Function\n",
    "def clean_text(text):\n",
    "    text = text.lower()  # Convert to lowercase\n",
    "    text = re.sub(r\"http\\S+|www\\S+|https\\S+\", '', text, flags=re.MULTILINE)  # Remove URLs\n",
    "    text = re.sub(r'\\@\\w+|\\#', '', text)  # Remove @ and #\n",
    "    text = re.sub(r'[^\\w\\s]', '', text)  # Remove punctuation\n",
    "    text = re.sub(r'\\d+', '', text)  # Remove numbers\n",
    "    text_tokens = word_tokenize(text)  # Tokenize text\n",
    "    filtered_words = [word for word in text_tokens if word not in stopwords.words('english')]  # Remove stopwords\n",
    "    return \" \".join(filtered_words)\n",
    "\n",
    "# Apply the cleaning function to the text column\n",
    "df['clean_text'] = df['text'].apply(clean_text)\n",
    "\n",
    "# Display a few cleaned sample tweets\n",
    "print(df['clean_text'].sample(10))\n"
   ]
  },
  {
   "cell_type": "code",
   "execution_count": null,
   "id": "4b75c4de",
   "metadata": {},
   "outputs": [],
   "source": [
    "# Split Data into Training and Testing Sets\n",
    "X = df['clean_text']\n",
    "y = df['target']\n",
    "\n",
    "X_train, X_test, y_train, y_test = train_test_split(X, y, test_size=0.2, random_state=42)\n",
    "\n",
    "# Display shapes of the training and testing sets\n",
    "print(X_train.shape, X_test.shape, y_train.shape, y_test.shape)\n"
   ]
  },
  {
   "cell_type": "code",
   "execution_count": null,
   "id": "86324ceb",
   "metadata": {},
   "outputs": [],
   "source": [
    "# Vectorize Text Data\n",
    "vectorizer = TfidfVectorizer(max_features=5000)\n",
    "X_train_vec = vectorizer.fit_transform(X_train)\n",
    "X_test_vec = vectorizer.transform(X_test)\n",
    "\n",
    "# Display the shape of the transformed data\n",
    "print(X_train_vec.shape, X_test_vec.shape)\n"
   ]
  },
  {
   "cell_type": "code",
   "execution_count": null,
   "id": "ac666bda",
   "metadata": {},
   "outputs": [],
   "source": [
    "# Train Logistic Regression Model\n",
    "model = LogisticRegression(max_iter=1000)\n",
    "model.fit(X_train_vec, y_train)\n",
    "\n",
    "# Display training completion message\n",
    "print(\"Model training completed.\")\n"
   ]
  },
  {
   "cell_type": "code",
   "execution_count": null,
   "id": "b8709cb8",
   "metadata": {},
   "outputs": [],
   "source": [
    "# Evaluate Model Performance\n",
    "# Predict on test data\n",
    "y_pred = model.predict(X_test_vec)\n",
    "\n",
    "# Calculate accuracy\n",
    "accuracy = accuracy_score(y_test, y_pred)\n",
    "print(f\"Accuracy: {accuracy:.2f}\")\n",
    "\n",
    "# Display classification report\n",
    "print(classification_report(y_test, y_pred))\n",
    "\n",
    "# Display confusion matrix\n",
    "conf_matrix = confusion_matrix(y_test, y_pred)\n",
    "sns.heatmap(conf_matrix, annot=True, fmt='d', cmap='Blues', xticklabels=['Negative', 'Positive'], yticklabels=['Negative', 'Positive'])\n",
    "plt.xlabel('Predicted')\n",
    "plt.ylabel('Actual')\n",
    "plt.title('Confusion Matrix')\n",
    "plt.show()\n"
   ]
  },
  {
   "cell_type": "code",
   "execution_count": null,
   "id": "9485fdb0",
   "metadata": {},
   "outputs": [],
   "source": [
    "# Sample Predictions\n",
    "# Sample tweets and their predicted sentiments\n",
    "sample_tweets = X_test.sample(10)\n",
    "sample_predictions = model.predict(vectorizer.transform(sample_tweets))\n",
    "\n",
    "# Display sample predictions\n",
    "for tweet, sentiment in zip(sample_tweets, sample_predictions):\n",
    "    print(f\"Tweet: {tweet}\\nPredicted Sentiment: {'Positive' if sentiment == 1 else 'Negative'}\\n\")\n"
   ]
  },
  {
   "cell_type": "code",
   "execution_count": null,
   "id": "6db2b14b",
   "metadata": {},
   "outputs": [],
   "source": [
    "# Word Cloud Visualization\n",
    "from wordcloud import WordCloud\n",
    "\n",
    "# Generate word cloud for positive tweets\n",
    "positive_tweets = df[df['target'] == 1]['clean_text'].str.cat(sep=' ')\n",
    "wordcloud_positive = WordCloud(width=800, height=400, max_font_size=100, collocations=False).generate(positive_tweets)\n",
    "\n",
    "plt.figure(figsize=(10, 5))\n",
    "plt.imshow(wordcloud_positive, interpolation='bilinear')\n",
    "plt.title('Word Cloud for Positive Tweets')\n",
    "plt.axis('off')\n",
    "plt.show()\n",
    "\n",
    "# Generate word cloud for negative tweets\n",
    "negative_tweets = df[df['target'] == 0]['clean_text'].str.cat(sep=' ')\n",
    "wordcloud_negative = WordCloud(width=800, height=400, max_font_size=100, collocations=False).generate(negative_tweets)\n",
    "\n",
    "plt.figure(figsize=(10, 5))\n",
    "plt.imshow(wordcloud_negative, interpolation='bilinear')\n",
    "plt.title('Word Cloud for Negative Tweets')\n",
    "plt.axis('off')\n",
    "plt.show()\n"
   ]
  },
  {
   "cell_type": "code",
   "execution_count": null,
   "id": "3799a835",
   "metadata": {},
   "outputs": [],
   "source": []
  },
  {
   "cell_type": "code",
   "execution_count": null,
   "id": "e430a26d",
   "metadata": {},
   "outputs": [],
   "source": []
  },
  {
   "cell_type": "code",
   "execution_count": null,
   "id": "42e288ae",
   "metadata": {},
   "outputs": [],
   "source": []
  },
  {
   "cell_type": "code",
   "execution_count": null,
   "id": "7d92003b",
   "metadata": {},
   "outputs": [],
   "source": []
  },
  {
   "cell_type": "code",
   "execution_count": null,
   "id": "2b819c1e",
   "metadata": {},
   "outputs": [],
   "source": []
  }
 ],
 "metadata": {
  "kernelspec": {
   "display_name": "Python 3 (ipykernel)",
   "language": "python",
   "name": "python3"
  },
  "language_info": {
   "codemirror_mode": {
    "name": "ipython",
    "version": 3
   },
   "file_extension": ".py",
   "mimetype": "text/x-python",
   "name": "python",
   "nbconvert_exporter": "python",
   "pygments_lexer": "ipython3",
   "version": "3.11.5"
  }
 },
 "nbformat": 4,
 "nbformat_minor": 5
}
