# import Libraries
import pandas as pd
import numpy as np
import matplotlib.pyplot as plt
import seaborn as sns


# Load the dataset
file_path = 'sentimentdataset.csv'
df = pd.read_csv(file_path)

df.head()


# Drop unnecessary columns
df_cleaned = df.drop(columns=['Unnamed: 0.1', 'Unnamed: 0'])
df_cleaned.head()


# Check for missing values
missing_values = df_cleaned.isnull().sum()
print("Missing Values:\n", missing_values)


# Statistical summary of numerical columns
stat_summary = df_cleaned.describe()
print("Statistical Summary:\n", stat_summary)


# Sentiment distribution
sentiment_counts = df_cleaned['Sentiment'].value_counts()
print("Sentiment Distribution:\n", sentiment_counts)


# Visualize sentiment distribution
plt.figure(figsize=(8, 6))
sns.countplot(data=df_cleaned, x='Sentiment', palette='viridis')
plt.title('Sentiment Distribution')
plt.xlabel('Sentiment')
plt.ylabel('Count')
plt.show()





# Analyze the distribution of retweets and likes
plt.figure(figsize=(14, 6))

plt.subplot(1, 2, 1)
sns.histplot(df_cleaned['Retweets'], bins=20, kde=True, color='blue')
plt.title('Distribution of Retweets')
plt.xlabel('Retweets')

plt.subplot(1, 2, 2)
sns.histplot(df_cleaned['Likes'], bins=20, kde=True, color='green')
plt.title('Distribution of Likes')
plt.xlabel('Likes')

plt.tight_layout()
plt.show()






# Time Analysis: posts by year, month, day, hour
plt.figure(figsize=(14, 10))

plt.subplot(2, 2, 1)
sns.countplot(data=df_cleaned, x='Year', palette='viridis')
plt.title('Posts by Year')

plt.subplot(2, 2, 2)
sns.countplot(data=df_cleaned, x='Month', palette='viridis')
plt.title('Posts by Month')

plt.subplot(2, 2, 3)
sns.countplot(data=df_cleaned, x='Day', palette='viridis')
plt.title('Posts by Day')

plt.subplot(2, 2, 4)
sns.countplot(data=df_cleaned, x='Hour', palette='viridis')
plt.title('Posts by Hour')

plt.tight_layout()
plt.show()





# Platform and Country Analysis
plt.figure(figsize=(20, 6))

plt.subplot(1, 2, 1)
sns.countplot(data=df_cleaned, x='Platform', palette='viridis')
plt.title('Posts by Platform')
plt.xticks(rotation=45)

plt.subplot(1, 2, 2)
sns.countplot(data=df_cleaned, x='Country', palette='viridis')
plt.title('Posts by Country')
plt.xticks(rotation=45)

plt.tight_layout()
plt.show()










