# import libraries
import pandas as pd
import numpy as np
import matplotlib.pyplot as plt
import seaborn as sns


# Load datasets
df = pd.read_csv('SalesForecasting.csv')

# Display the first few rows of the dataset
print(df.head())



# Handle missing values: For simplicity, let's fill missing Postal Codes with a placeholder value (e.g., -1)
df['Postal Code'].fillna(-1, inplace=True)


# Visualize the distribution of sales
plt.figure(figsize=(10, 6))
sns.histplot(df['Sales'], bins=50, kde=True)
plt.title('Distribution of Sales')
plt.xlabel('Sales')
plt.ylabel('Frequency')
plt.show()


# Visualize sales by category
plt.figure(figsize=(12, 6))
category_sales = df.groupby('Category')['Sales'].sum().reset_index()
sns.barplot(x='Category', y='Sales', data=category_sales)
plt.title('Total Sales by Category')
plt.xlabel('Category')
plt.ylabel('Total Sales')
plt.show()


# Visualize sales by sub-category
plt.figure(figsize=(14, 8))
subcategory_sales = df.groupby('Sub-Category')['Sales'].sum().reset_index()
sns.barplot(x='Sales', y='Sub-Category', data=subcategory_sales)
plt.title('Total Sales by Sub-Category')
plt.xlabel('Total Sales')
plt.ylabel('Sub-Category')
plt.show()


# Convert Order Date to datetime
df['Order Date'] = pd.to_datetime(df['Order Date'], format='%d/%m/%Y')


# Visualize sales trends over time
plt.figure(figsize=(14, 8))
time_series = df.groupby('Order Date')['Sales'].sum().reset_index()
sns.lineplot(x='Order Date', y='Sales', data=time_series)
plt.title('Sales Trends Over Time')
plt.xlabel('Order Date')
plt.ylabel('Total Sales')
plt.show()


# Visualize sales by region
plt.figure(figsize=(12, 6))
region_sales = df.groupby('Region')['Sales'].sum().reset_index()
sns.barplot(x='Region', y='Sales', data=region_sales)
plt.title('Total Sales by Region')
plt.xlabel('Region')
plt.ylabel('Total Sales')
plt.show()


# Visualize sales by state
plt.figure(figsize=(14, 8))
state_sales = df.groupby('State')['Sales'].sum().reset_index().sort_values(by='Sales', ascending=False)
sns.barplot(x='Sales', y='State', data=state_sales)
plt.title('Total Sales by State')
plt.xlabel('Total Sales')
plt.ylabel('State')
plt.show()






