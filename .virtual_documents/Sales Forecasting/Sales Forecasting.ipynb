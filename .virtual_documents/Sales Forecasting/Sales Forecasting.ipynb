# import libraries
import pandas as pd
import numpy as np
import matplotlib.pyplot as plt
import seaborn as sns


# Load datasets
df = pd.read_csv('SalesForecasting.csv')

# Display the first few rows of the dataset
print(df.head())



# Check for missing values
missing_values = df.isnull().sum()
print("Missing Values:\n", missing_values)


df.dropna(inplace=True)
df.info()















